{
  "nbformat": 4,
  "nbformat_minor": 0,
  "metadata": {
    "colab": {
      "provenance": [],
      "authorship_tag": "ABX9TyNnIVUOfH7DtQ1ZU0//YrnE",
      "include_colab_link": true
    },
    "kernelspec": {
      "name": "python3",
      "display_name": "Python 3"
    },
    "language_info": {
      "name": "python"
    }
  },
  "cells": [
    {
      "cell_type": "markdown",
      "metadata": {
        "id": "view-in-github",
        "colab_type": "text"
      },
      "source": [
        "<a href=\"https://colab.research.google.com/github/kuci-ai/SMJE4383/blob/main/Pizza_Ordering_Services.ipynb\" target=\"_parent\"><img src=\"https://colab.research.google.com/assets/colab-badge.svg\" alt=\"Open In Colab\"/></a>"
      ]
    },
    {
      "cell_type": "code",
      "source": [
        "def display_menu(menu):\n",
        "    print(\"Pizza Menu\")\n",
        "    for pizza, price in menu.items():\n",
        "        print(f\"- {pizza}: RM {price}\")\n",
        "\n",
        "menu = {\"Papperoni\": 25, \"Margherita\": 45, \"Hawaian Chicken\": 50, \"Spicy Deluxe Beef\": 58}\n",
        "display_menu(menu)\n",
        "\n",
        "# Take multiple pizza orders and calculate total price\n",
        "order_list = []\n",
        "total_price = 0\n",
        "\n",
        "while True:\n",
        "    order = input(\"Enter a pizza name to order (or type done to finish): \").title()\n",
        "    if order == \"Done\":\n",
        "        break\n",
        "    elif order in menu:\n",
        "        order_list.append(order)\n",
        "        total_price += menu[order]\n",
        "    else:\n",
        "        print(\"Sorry, that pizza is not available. Please choose from the available options.\")\n",
        "\n",
        "# Order Summary\n",
        "print(\"\\nOrder Summary:\")\n",
        "for order in order_list:\n",
        "    print(f\"- {order}: RM {menu[order]}\")\n",
        "print(f\"Total: RM {total_price:.2f}\")\n",
        "\n",
        "# Discount\n",
        "regular_customer = input(\"Are you a regular customer? (yes/no): \").lower()\n",
        "\n",
        "if regular_customer == \"yes\":\n",
        "    if total_price > 100:\n",
        "        apply_discount = 0.15 * total_price\n",
        "        total_price -= apply_discount  # Apply discount to total price\n",
        "        print(f\"You get a 15% regular customer discount of RM {apply_discount:.2f}\")\n",
        "    else:\n",
        "        print(\"No discount applied for regular customers below RM 100. Thank you for your order!\")\n",
        "else:\n",
        "    if total_price > 100:\n",
        "        apply_discount = 0.15 * total_price\n",
        "        total_price -= apply_discount  # Apply discount to total price\n",
        "        print(f\"You get 15% discount of RM {apply_discount:.2f}\")\n",
        "    else:\n",
        "        print(\"No discount applied. Thank you for your order!\")\n",
        "\n",
        "# Final Total Price\n",
        "print(f\"\\nFinal Total Price: RM {total_price:.2f}\")  # Display final total after discount"
      ],
      "metadata": {
        "colab": {
          "base_uri": "https://localhost:8080/"
        },
        "id": "Ns3YWQ-g5ga-",
        "outputId": "976de03c-e62e-4995-8262-d476d49b5915"
      },
      "execution_count": 6,
      "outputs": [
        {
          "output_type": "stream",
          "name": "stdout",
          "text": [
            "Pizza Menu\n",
            "- Papperoni: RM 25\n",
            "- Margherita: RM 45\n",
            "- Hawaian Chicken: RM 50\n",
            "- Spicy Deluxe Beef: RM 58\n",
            "Enter a pizza name to order (or type done to finish): Spicy Deluxe Beef\n",
            "Enter a pizza name to order (or type done to finish): Margherita\n",
            "Enter a pizza name to order (or type done to finish): done\n",
            "\n",
            "Order Summary:\n",
            "- Spicy Deluxe Beef: RM 58\n",
            "- Margherita: RM 45\n",
            "Total: RM 103.00\n",
            "Are you a regular customer? (yes/no): yes\n",
            "You get a 15% regular customer discount of RM 15.45\n",
            "\n",
            "Final Total Price: RM 87.55\n"
          ]
        }
      ]
    }
  ]
}